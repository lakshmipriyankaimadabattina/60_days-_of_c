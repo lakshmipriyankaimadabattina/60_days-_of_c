{
  "nbformat": 4,
  "nbformat_minor": 0,
  "metadata": {
    "colab": {
      "name": "turtle-shapes",
      "provenance": [],
      "authorship_tag": "ABX9TyNI/rNe0+hA2B9IzVq9CaPA",
      "include_colab_link": true
    },
    "kernelspec": {
      "name": "python3",
      "display_name": "Python 3"
    },
    "language_info": {
      "name": "python"
    }
  },
  "cells": [
    {
      "cell_type": "markdown",
      "metadata": {
        "id": "view-in-github",
        "colab_type": "text"
      },
      "source": [
        "<a href=\"https://colab.research.google.com/github/lakshmipriyankaimadabattina/60_days-_of_c/blob/main/turtle_shapes.ipynb\" target=\"_parent\"><img src=\"https://colab.research.google.com/assets/colab-badge.svg\" alt=\"Open In Colab\"/></a>"
      ]
    },
    {
      "cell_type": "code",
      "metadata": {
        "colab": {
          "base_uri": "https://localhost:8080/"
        },
        "id": "l5vRGw1zi_Dc",
        "outputId": "f66165dc-611f-4322-d0a7-64f0680ca9c8"
      },
      "source": [
        "!pip3 install ColabTurtle\n",
        "from ColabTurtle.Turtle import*"
      ],
      "execution_count": 1,
      "outputs": [
        {
          "output_type": "stream",
          "name": "stdout",
          "text": [
            "Collecting ColabTurtle\n",
            "  Downloading ColabTurtle-2.1.0.tar.gz (6.8 kB)\n",
            "Building wheels for collected packages: ColabTurtle\n",
            "  Building wheel for ColabTurtle (setup.py) ... \u001b[?25l\u001b[?25hdone\n",
            "  Created wheel for ColabTurtle: filename=ColabTurtle-2.1.0-py3-none-any.whl size=7655 sha256=9598d830d23200e96b63e1d500f65b27aaefb93df63021da199b63e5891b7cdb\n",
            "  Stored in directory: /root/.cache/pip/wheels/0d/ab/65/cc4478508751448dfb4ecb20a6533082855c227dfce8c13902\n",
            "Successfully built ColabTurtle\n",
            "Installing collected packages: ColabTurtle\n",
            "Successfully installed ColabTurtle-2.1.0\n"
          ]
        }
      ]
    },
    {
      "cell_type": "code",
      "metadata": {
        "id": "R46ezHeQjOpJ"
      },
      "source": [
        "import ColabTurtle.Turtle as tim\n",
        "from random import randint\n",
        "\n",
        "def initializeTimeTheTurtle():\n",
        "  initializeTurtle()\n",
        "  penup()\n",
        "  goto(400, 10)\n",
        "  pendown()\n",
        "  tim.right(90)\n",
        "\n",
        "def drawShapes(num_sides):\n",
        "  tim.color(randint(0,220),randint(0, 220),randint(0, 220))\n",
        "  for _ in range(num_sides):\n",
        "    angle = 360/num_sides\n",
        "    tim.forward(100)\n",
        "    tim.right(angle)"
      ],
      "execution_count": 2,
      "outputs": []
    },
    {
      "cell_type": "code",
      "metadata": {
        "colab": {
          "base_uri": "https://localhost:8080/",
          "height": 521
        },
        "id": "9oOwjGP6jVwh",
        "outputId": "ce31c3e1-e3c1-4496-ff94-5299d07ded7b"
      },
      "source": [
        "initializeTimeTheTurtle()"
      ],
      "execution_count": 3,
      "outputs": [
        {
          "output_type": "display_data",
          "data": {
            "text/html": [
              "\n",
              "      <svg width=\"800\" height=\"500\">\n",
              "        <rect width=\"100%\" height=\"100%\" fill=\"black\"/>\n",
              "        \n",
              "        <g visibility=visible transform=\"rotate(90,400,10) translate(382, -8)\">\n",
              "<path style=\" stroke:none;fill-rule:evenodd;fill:white;fill-opacity:1;\" d=\"M 18.214844 0.632812 C 16.109375 1.800781 15.011719 4.074219 15.074219 7.132812 L 15.085938 7.652344 L 14.785156 7.496094 C 13.476562 6.824219 11.957031 6.671875 10.40625 7.066406 C 8.46875 7.550781 6.515625 9.15625 4.394531 11.992188 C 3.0625 13.777344 2.679688 14.636719 3.042969 15.027344 L 3.15625 15.152344 L 3.519531 15.152344 C 4.238281 15.152344 4.828125 14.886719 8.1875 13.039062 C 9.386719 12.378906 10.371094 11.839844 10.378906 11.839844 C 10.386719 11.839844 10.355469 11.929688 10.304688 12.035156 C 9.832031 13.09375 9.257812 14.820312 8.96875 16.078125 C 7.914062 20.652344 8.617188 24.53125 11.070312 27.660156 C 11.351562 28.015625 11.363281 27.914062 10.972656 28.382812 C 8.925781 30.84375 7.945312 33.28125 8.238281 35.1875 C 8.289062 35.527344 8.28125 35.523438 8.917969 35.523438 C 10.941406 35.523438 13.074219 34.207031 15.136719 31.6875 C 15.359375 31.417969 15.328125 31.425781 15.5625 31.574219 C 16.292969 32.042969 18.023438 32.964844 18.175781 32.964844 C 18.335938 32.964844 19.941406 32.210938 20.828125 31.71875 C 20.996094 31.625 21.136719 31.554688 21.136719 31.558594 C 21.203125 31.664062 21.898438 32.414062 22.222656 32.730469 C 23.835938 34.300781 25.5625 35.132812 27.582031 35.300781 C 27.90625 35.328125 27.9375 35.308594 28.007812 34.984375 C 28.382812 33.242188 27.625 30.925781 25.863281 28.425781 L 25.542969 27.96875 L 25.699219 27.785156 C 28.945312 23.960938 29.132812 18.699219 26.257812 11.96875 L 26.207031 11.84375 L 27.945312 12.703125 C 31.53125 14.476562 32.316406 14.800781 33.03125 14.800781 C 33.976562 14.800781 33.78125 13.9375 32.472656 12.292969 C 28.519531 7.355469 25.394531 5.925781 21.921875 7.472656 L 21.558594 7.636719 L 21.578125 7.542969 C 21.699219 6.992188 21.761719 5.742188 21.699219 5.164062 C 21.496094 3.296875 20.664062 1.964844 19.003906 0.855469 C 18.480469 0.503906 18.457031 0.5 18.214844 0.632812\"/>\n",
              "</g>\n",
              "      </svg>\n",
              "    "
            ],
            "text/plain": [
              "<IPython.core.display.HTML object>"
            ]
          },
          "metadata": {}
        }
      ]
    },
    {
      "cell_type": "code",
      "metadata": {
        "colab": {
          "base_uri": "https://localhost:8080/",
          "height": 521
        },
        "id": "n1YFp1NCjYXd",
        "outputId": "1d5c7943-f67b-4e91-b351-858a92bb8916"
      },
      "source": [
        "initializeTurtle()"
      ],
      "execution_count": 4,
      "outputs": [
        {
          "output_type": "display_data",
          "data": {
            "text/html": [
              "\n",
              "      <svg width=\"800\" height=\"500\">\n",
              "        <rect width=\"100%\" height=\"100%\" fill=\"black\"/>\n",
              "        \n",
              "        <g visibility=visible transform=\"rotate(360,400,250) translate(382, 232)\">\n",
              "<path style=\" stroke:none;fill-rule:evenodd;fill:white;fill-opacity:1;\" d=\"M 18.214844 0.632812 C 16.109375 1.800781 15.011719 4.074219 15.074219 7.132812 L 15.085938 7.652344 L 14.785156 7.496094 C 13.476562 6.824219 11.957031 6.671875 10.40625 7.066406 C 8.46875 7.550781 6.515625 9.15625 4.394531 11.992188 C 3.0625 13.777344 2.679688 14.636719 3.042969 15.027344 L 3.15625 15.152344 L 3.519531 15.152344 C 4.238281 15.152344 4.828125 14.886719 8.1875 13.039062 C 9.386719 12.378906 10.371094 11.839844 10.378906 11.839844 C 10.386719 11.839844 10.355469 11.929688 10.304688 12.035156 C 9.832031 13.09375 9.257812 14.820312 8.96875 16.078125 C 7.914062 20.652344 8.617188 24.53125 11.070312 27.660156 C 11.351562 28.015625 11.363281 27.914062 10.972656 28.382812 C 8.925781 30.84375 7.945312 33.28125 8.238281 35.1875 C 8.289062 35.527344 8.28125 35.523438 8.917969 35.523438 C 10.941406 35.523438 13.074219 34.207031 15.136719 31.6875 C 15.359375 31.417969 15.328125 31.425781 15.5625 31.574219 C 16.292969 32.042969 18.023438 32.964844 18.175781 32.964844 C 18.335938 32.964844 19.941406 32.210938 20.828125 31.71875 C 20.996094 31.625 21.136719 31.554688 21.136719 31.558594 C 21.203125 31.664062 21.898438 32.414062 22.222656 32.730469 C 23.835938 34.300781 25.5625 35.132812 27.582031 35.300781 C 27.90625 35.328125 27.9375 35.308594 28.007812 34.984375 C 28.382812 33.242188 27.625 30.925781 25.863281 28.425781 L 25.542969 27.96875 L 25.699219 27.785156 C 28.945312 23.960938 29.132812 18.699219 26.257812 11.96875 L 26.207031 11.84375 L 27.945312 12.703125 C 31.53125 14.476562 32.316406 14.800781 33.03125 14.800781 C 33.976562 14.800781 33.78125 13.9375 32.472656 12.292969 C 28.519531 7.355469 25.394531 5.925781 21.921875 7.472656 L 21.558594 7.636719 L 21.578125 7.542969 C 21.699219 6.992188 21.761719 5.742188 21.699219 5.164062 C 21.496094 3.296875 20.664062 1.964844 19.003906 0.855469 C 18.480469 0.503906 18.457031 0.5 18.214844 0.632812\"/>\n",
              "</g>\n",
              "      </svg>\n",
              "    "
            ],
            "text/plain": [
              "<IPython.core.display.HTML object>"
            ]
          },
          "metadata": {}
        }
      ]
    },
    {
      "cell_type": "code",
      "metadata": {
        "colab": {
          "base_uri": "https://localhost:8080/",
          "height": 521
        },
        "id": "BLSy9jyKjdJd",
        "outputId": "a59c0ec0-e7ec-4bba-d921-2371d087429e"
      },
      "source": [
        "initializeTimeTheTurtle()\n",
        "drawShapes(3)"
      ],
      "execution_count": 5,
      "outputs": [
        {
          "output_type": "display_data",
          "data": {
            "text/html": [
              "\n",
              "      <svg width=\"800\" height=\"500\">\n",
              "        <rect width=\"100%\" height=\"100%\" fill=\"black\"/>\n",
              "        <line x1=\"400\" y1=\"10\" x2=\"500.0\" y2=\"10.0\" stroke-linecap=\"round\" style=\"stroke:rgb(22,212,165);stroke-width:4\"/><line x1=\"500.0\" y1=\"10.0\" x2=\"450.0\" y2=\"96.603\" stroke-linecap=\"round\" style=\"stroke:rgb(22,212,165);stroke-width:4\"/><line x1=\"450.0\" y1=\"96.603\" x2=\"400.0\" y2=\"10.0\" stroke-linecap=\"round\" style=\"stroke:rgb(22,212,165);stroke-width:4\"/>\n",
              "        <g visibility=visible transform=\"rotate(90.0,400.0,10.0) translate(382.0, -8.0)\">\n",
              "<path style=\" stroke:none;fill-rule:evenodd;fill:rgb(22,212,165);fill-opacity:1;\" d=\"M 18.214844 0.632812 C 16.109375 1.800781 15.011719 4.074219 15.074219 7.132812 L 15.085938 7.652344 L 14.785156 7.496094 C 13.476562 6.824219 11.957031 6.671875 10.40625 7.066406 C 8.46875 7.550781 6.515625 9.15625 4.394531 11.992188 C 3.0625 13.777344 2.679688 14.636719 3.042969 15.027344 L 3.15625 15.152344 L 3.519531 15.152344 C 4.238281 15.152344 4.828125 14.886719 8.1875 13.039062 C 9.386719 12.378906 10.371094 11.839844 10.378906 11.839844 C 10.386719 11.839844 10.355469 11.929688 10.304688 12.035156 C 9.832031 13.09375 9.257812 14.820312 8.96875 16.078125 C 7.914062 20.652344 8.617188 24.53125 11.070312 27.660156 C 11.351562 28.015625 11.363281 27.914062 10.972656 28.382812 C 8.925781 30.84375 7.945312 33.28125 8.238281 35.1875 C 8.289062 35.527344 8.28125 35.523438 8.917969 35.523438 C 10.941406 35.523438 13.074219 34.207031 15.136719 31.6875 C 15.359375 31.417969 15.328125 31.425781 15.5625 31.574219 C 16.292969 32.042969 18.023438 32.964844 18.175781 32.964844 C 18.335938 32.964844 19.941406 32.210938 20.828125 31.71875 C 20.996094 31.625 21.136719 31.554688 21.136719 31.558594 C 21.203125 31.664062 21.898438 32.414062 22.222656 32.730469 C 23.835938 34.300781 25.5625 35.132812 27.582031 35.300781 C 27.90625 35.328125 27.9375 35.308594 28.007812 34.984375 C 28.382812 33.242188 27.625 30.925781 25.863281 28.425781 L 25.542969 27.96875 L 25.699219 27.785156 C 28.945312 23.960938 29.132812 18.699219 26.257812 11.96875 L 26.207031 11.84375 L 27.945312 12.703125 C 31.53125 14.476562 32.316406 14.800781 33.03125 14.800781 C 33.976562 14.800781 33.78125 13.9375 32.472656 12.292969 C 28.519531 7.355469 25.394531 5.925781 21.921875 7.472656 L 21.558594 7.636719 L 21.578125 7.542969 C 21.699219 6.992188 21.761719 5.742188 21.699219 5.164062 C 21.496094 3.296875 20.664062 1.964844 19.003906 0.855469 C 18.480469 0.503906 18.457031 0.5 18.214844 0.632812\"/>\n",
              "</g>\n",
              "      </svg>\n",
              "    "
            ],
            "text/plain": [
              "<IPython.core.display.HTML object>"
            ]
          },
          "metadata": {}
        }
      ]
    },
    {
      "cell_type": "code",
      "metadata": {
        "colab": {
          "base_uri": "https://localhost:8080/",
          "height": 521
        },
        "id": "9xtRCuMmjiRD",
        "outputId": "ba073c82-689a-4a2f-acd2-23bf475a84de"
      },
      "source": [
        "initializeTimeTheTurtle()\n",
        "drawShapes(10)"
      ],
      "execution_count": 6,
      "outputs": [
        {
          "output_type": "display_data",
          "data": {
            "text/html": [
              "\n",
              "      <svg width=\"800\" height=\"500\">\n",
              "        <rect width=\"100%\" height=\"100%\" fill=\"black\"/>\n",
              "        <line x1=\"400\" y1=\"10\" x2=\"500.0\" y2=\"10.0\" stroke-linecap=\"round\" style=\"stroke:rgb(61,17,35);stroke-width:4\"/><line x1=\"500.0\" y1=\"10.0\" x2=\"580.902\" y2=\"68.779\" stroke-linecap=\"round\" style=\"stroke:rgb(61,17,35);stroke-width:4\"/><line x1=\"580.902\" y1=\"68.779\" x2=\"611.804\" y2=\"163.885\" stroke-linecap=\"round\" style=\"stroke:rgb(61,17,35);stroke-width:4\"/><line x1=\"611.804\" y1=\"163.885\" x2=\"580.902\" y2=\"258.991\" stroke-linecap=\"round\" style=\"stroke:rgb(61,17,35);stroke-width:4\"/><line x1=\"580.902\" y1=\"258.991\" x2=\"500.0\" y2=\"317.77\" stroke-linecap=\"round\" style=\"stroke:rgb(61,17,35);stroke-width:4\"/><line x1=\"500.0\" y1=\"317.77\" x2=\"400.0\" y2=\"317.77\" stroke-linecap=\"round\" style=\"stroke:rgb(61,17,35);stroke-width:4\"/><line x1=\"400.0\" y1=\"317.77\" x2=\"319.098\" y2=\"258.991\" stroke-linecap=\"round\" style=\"stroke:rgb(61,17,35);stroke-width:4\"/><line x1=\"319.098\" y1=\"258.991\" x2=\"288.196\" y2=\"163.885\" stroke-linecap=\"round\" style=\"stroke:rgb(61,17,35);stroke-width:4\"/><line x1=\"288.196\" y1=\"163.885\" x2=\"319.098\" y2=\"68.779\" stroke-linecap=\"round\" style=\"stroke:rgb(61,17,35);stroke-width:4\"/><line x1=\"319.098\" y1=\"68.779\" x2=\"400.0\" y2=\"10.0\" stroke-linecap=\"round\" style=\"stroke:rgb(61,17,35);stroke-width:4\"/>\n",
              "        <g visibility=visible transform=\"rotate(90.0,400.0,10.0) translate(382.0, -8.0)\">\n",
              "<path style=\" stroke:none;fill-rule:evenodd;fill:rgb(61,17,35);fill-opacity:1;\" d=\"M 18.214844 0.632812 C 16.109375 1.800781 15.011719 4.074219 15.074219 7.132812 L 15.085938 7.652344 L 14.785156 7.496094 C 13.476562 6.824219 11.957031 6.671875 10.40625 7.066406 C 8.46875 7.550781 6.515625 9.15625 4.394531 11.992188 C 3.0625 13.777344 2.679688 14.636719 3.042969 15.027344 L 3.15625 15.152344 L 3.519531 15.152344 C 4.238281 15.152344 4.828125 14.886719 8.1875 13.039062 C 9.386719 12.378906 10.371094 11.839844 10.378906 11.839844 C 10.386719 11.839844 10.355469 11.929688 10.304688 12.035156 C 9.832031 13.09375 9.257812 14.820312 8.96875 16.078125 C 7.914062 20.652344 8.617188 24.53125 11.070312 27.660156 C 11.351562 28.015625 11.363281 27.914062 10.972656 28.382812 C 8.925781 30.84375 7.945312 33.28125 8.238281 35.1875 C 8.289062 35.527344 8.28125 35.523438 8.917969 35.523438 C 10.941406 35.523438 13.074219 34.207031 15.136719 31.6875 C 15.359375 31.417969 15.328125 31.425781 15.5625 31.574219 C 16.292969 32.042969 18.023438 32.964844 18.175781 32.964844 C 18.335938 32.964844 19.941406 32.210938 20.828125 31.71875 C 20.996094 31.625 21.136719 31.554688 21.136719 31.558594 C 21.203125 31.664062 21.898438 32.414062 22.222656 32.730469 C 23.835938 34.300781 25.5625 35.132812 27.582031 35.300781 C 27.90625 35.328125 27.9375 35.308594 28.007812 34.984375 C 28.382812 33.242188 27.625 30.925781 25.863281 28.425781 L 25.542969 27.96875 L 25.699219 27.785156 C 28.945312 23.960938 29.132812 18.699219 26.257812 11.96875 L 26.207031 11.84375 L 27.945312 12.703125 C 31.53125 14.476562 32.316406 14.800781 33.03125 14.800781 C 33.976562 14.800781 33.78125 13.9375 32.472656 12.292969 C 28.519531 7.355469 25.394531 5.925781 21.921875 7.472656 L 21.558594 7.636719 L 21.578125 7.542969 C 21.699219 6.992188 21.761719 5.742188 21.699219 5.164062 C 21.496094 3.296875 20.664062 1.964844 19.003906 0.855469 C 18.480469 0.503906 18.457031 0.5 18.214844 0.632812\"/>\n",
              "</g>\n",
              "      </svg>\n",
              "    "
            ],
            "text/plain": [
              "<IPython.core.display.HTML object>"
            ]
          },
          "metadata": {}
        }
      ]
    },
    {
      "cell_type": "code",
      "metadata": {
        "colab": {
          "base_uri": "https://localhost:8080/",
          "height": 849
        },
        "id": "bgCeY1UsjpNK",
        "outputId": "67cc94ab-7a53-4ebe-aede-c62f243dc9b2"
      },
      "source": [
        "initializeTimeTheTurtle()\n",
        "for num_sides in range(3,21,1):\n",
        "  print(num_sides)\n",
        "  drawShapes(num_sides)"
      ],
      "execution_count": 7,
      "outputs": [
        {
          "output_type": "display_data",
          "data": {
            "text/html": [
              "\n",
              "      <svg width=\"800\" height=\"500\">\n",
              "        <rect width=\"100%\" height=\"100%\" fill=\"black\"/>\n",
              "        <line x1=\"400\" y1=\"10\" x2=\"500.0\" y2=\"10.0\" stroke-linecap=\"round\" style=\"stroke:rgb(123,51,166);stroke-width:4\"/><line x1=\"500.0\" y1=\"10.0\" x2=\"450.0\" y2=\"96.603\" stroke-linecap=\"round\" style=\"stroke:rgb(123,51,166);stroke-width:4\"/><line x1=\"450.0\" y1=\"96.603\" x2=\"400.0\" y2=\"10.0\" stroke-linecap=\"round\" style=\"stroke:rgb(123,51,166);stroke-width:4\"/><line x1=\"400.0\" y1=\"10.0\" x2=\"500.0\" y2=\"10.0\" stroke-linecap=\"round\" style=\"stroke:rgb(25,163,89);stroke-width:4\"/><line x1=\"500.0\" y1=\"10.0\" x2=\"500.0\" y2=\"110.0\" stroke-linecap=\"round\" style=\"stroke:rgb(25,163,89);stroke-width:4\"/><line x1=\"500.0\" y1=\"110.0\" x2=\"400.0\" y2=\"110.0\" stroke-linecap=\"round\" style=\"stroke:rgb(25,163,89);stroke-width:4\"/><line x1=\"400.0\" y1=\"110.0\" x2=\"400.0\" y2=\"10.0\" stroke-linecap=\"round\" style=\"stroke:rgb(25,163,89);stroke-width:4\"/><line x1=\"400.0\" y1=\"10.0\" x2=\"500.0\" y2=\"10.0\" stroke-linecap=\"round\" style=\"stroke:rgb(27,133,67);stroke-width:4\"/><line x1=\"500.0\" y1=\"10.0\" x2=\"530.902\" y2=\"105.106\" stroke-linecap=\"round\" style=\"stroke:rgb(27,133,67);stroke-width:4\"/><line x1=\"530.902\" y1=\"105.106\" x2=\"450.0\" y2=\"163.885\" stroke-linecap=\"round\" style=\"stroke:rgb(27,133,67);stroke-width:4\"/><line x1=\"450.0\" y1=\"163.885\" x2=\"369.098\" y2=\"105.106\" stroke-linecap=\"round\" style=\"stroke:rgb(27,133,67);stroke-width:4\"/><line x1=\"369.098\" y1=\"105.106\" x2=\"400.0\" y2=\"10.0\" stroke-linecap=\"round\" style=\"stroke:rgb(27,133,67);stroke-width:4\"/><line x1=\"400.0\" y1=\"10.0\" x2=\"500.0\" y2=\"10.0\" stroke-linecap=\"round\" style=\"stroke:rgb(17,30,5);stroke-width:4\"/><line x1=\"500.0\" y1=\"10.0\" x2=\"550.0\" y2=\"96.603\" stroke-linecap=\"round\" style=\"stroke:rgb(17,30,5);stroke-width:4\"/><line x1=\"550.0\" y1=\"96.603\" x2=\"500.0\" y2=\"183.206\" stroke-linecap=\"round\" style=\"stroke:rgb(17,30,5);stroke-width:4\"/><line x1=\"500.0\" y1=\"183.206\" x2=\"400.0\" y2=\"183.206\" stroke-linecap=\"round\" style=\"stroke:rgb(17,30,5);stroke-width:4\"/><line x1=\"400.0\" y1=\"183.206\" x2=\"350.0\" y2=\"96.603\" stroke-linecap=\"round\" style=\"stroke:rgb(17,30,5);stroke-width:4\"/><line x1=\"350.0\" y1=\"96.603\" x2=\"400.0\" y2=\"10.0\" stroke-linecap=\"round\" style=\"stroke:rgb(17,30,5);stroke-width:4\"/><line x1=\"400.0\" y1=\"10.0\" x2=\"500.0\" y2=\"10.0\" stroke-linecap=\"round\" style=\"stroke:rgb(27,100,81);stroke-width:4\"/><line x1=\"500.0\" y1=\"10.0\" x2=\"562.349\" y2=\"88.183\" stroke-linecap=\"round\" style=\"stroke:rgb(27,100,81);stroke-width:4\"/><line x1=\"562.349\" y1=\"88.183\" x2=\"540.097\" y2=\"185.676\" stroke-linecap=\"round\" style=\"stroke:rgb(27,100,81);stroke-width:4\"/><line x1=\"540.097\" y1=\"185.676\" x2=\"450.0\" y2=\"229.064\" stroke-linecap=\"round\" style=\"stroke:rgb(27,100,81);stroke-width:4\"/><line x1=\"450.0\" y1=\"229.064\" x2=\"359.903\" y2=\"185.676\" stroke-linecap=\"round\" style=\"stroke:rgb(27,100,81);stroke-width:4\"/><line x1=\"359.903\" y1=\"185.676\" x2=\"337.651\" y2=\"88.183\" stroke-linecap=\"round\" style=\"stroke:rgb(27,100,81);stroke-width:4\"/><line x1=\"337.651\" y1=\"88.183\" x2=\"400.0\" y2=\"10.0\" stroke-linecap=\"round\" style=\"stroke:rgb(27,100,81);stroke-width:4\"/><line x1=\"400.0\" y1=\"10.0\" x2=\"500.0\" y2=\"10.0\" stroke-linecap=\"round\" style=\"stroke:rgb(209,97,201);stroke-width:4\"/><line x1=\"500.0\" y1=\"10.0\" x2=\"570.711\" y2=\"80.711\" stroke-linecap=\"round\" style=\"stroke:rgb(209,97,201);stroke-width:4\"/><line x1=\"570.711\" y1=\"80.711\" x2=\"570.711\" y2=\"180.711\" stroke-linecap=\"round\" style=\"stroke:rgb(209,97,201);stroke-width:4\"/><line x1=\"570.711\" y1=\"180.711\" x2=\"500.0\" y2=\"251.422\" stroke-linecap=\"round\" style=\"stroke:rgb(209,97,201);stroke-width:4\"/><line x1=\"500.0\" y1=\"251.422\" x2=\"400.0\" y2=\"251.422\" stroke-linecap=\"round\" style=\"stroke:rgb(209,97,201);stroke-width:4\"/><line x1=\"400.0\" y1=\"251.422\" x2=\"329.289\" y2=\"180.711\" stroke-linecap=\"round\" style=\"stroke:rgb(209,97,201);stroke-width:4\"/><line x1=\"329.289\" y1=\"180.711\" x2=\"329.289\" y2=\"80.711\" stroke-linecap=\"round\" style=\"stroke:rgb(209,97,201);stroke-width:4\"/><line x1=\"329.289\" y1=\"80.711\" x2=\"400.0\" y2=\"10.0\" stroke-linecap=\"round\" style=\"stroke:rgb(209,97,201);stroke-width:4\"/><line x1=\"400.0\" y1=\"10.0\" x2=\"500.0\" y2=\"10.0\" stroke-linecap=\"round\" style=\"stroke:rgb(110,137,66);stroke-width:4\"/><line x1=\"500.0\" y1=\"10.0\" x2=\"576.604\" y2=\"74.279\" stroke-linecap=\"round\" style=\"stroke:rgb(110,137,66);stroke-width:4\"/><line x1=\"576.604\" y1=\"74.279\" x2=\"593.969\" y2=\"172.76\" stroke-linecap=\"round\" style=\"stroke:rgb(110,137,66);stroke-width:4\"/><line x1=\"593.969\" y1=\"172.76\" x2=\"543.969\" y2=\"259.363\" stroke-linecap=\"round\" style=\"stroke:rgb(110,137,66);stroke-width:4\"/><line x1=\"543.969\" y1=\"259.363\" x2=\"450.0\" y2=\"293.565\" stroke-linecap=\"round\" style=\"stroke:rgb(110,137,66);stroke-width:4\"/><line x1=\"450.0\" y1=\"293.565\" x2=\"356.031\" y2=\"259.363\" stroke-linecap=\"round\" style=\"stroke:rgb(110,137,66);stroke-width:4\"/><line x1=\"356.031\" y1=\"259.363\" x2=\"306.031\" y2=\"172.76\" stroke-linecap=\"round\" style=\"stroke:rgb(110,137,66);stroke-width:4\"/><line x1=\"306.031\" y1=\"172.76\" x2=\"323.396\" y2=\"74.279\" stroke-linecap=\"round\" style=\"stroke:rgb(110,137,66);stroke-width:4\"/><line x1=\"323.396\" y1=\"74.279\" x2=\"400.0\" y2=\"10.0\" stroke-linecap=\"round\" style=\"stroke:rgb(110,137,66);stroke-width:4\"/><line x1=\"400.0\" y1=\"10.0\" x2=\"500.0\" y2=\"10.0\" stroke-linecap=\"round\" style=\"stroke:rgb(88,97,159);stroke-width:4\"/><line x1=\"500.0\" y1=\"10.0\" x2=\"580.902\" y2=\"68.779\" stroke-linecap=\"round\" style=\"stroke:rgb(88,97,159);stroke-width:4\"/><line x1=\"580.902\" y1=\"68.779\" x2=\"611.804\" y2=\"163.885\" stroke-linecap=\"round\" style=\"stroke:rgb(88,97,159);stroke-width:4\"/><line x1=\"611.804\" y1=\"163.885\" x2=\"580.902\" y2=\"258.991\" stroke-linecap=\"round\" style=\"stroke:rgb(88,97,159);stroke-width:4\"/><line x1=\"580.902\" y1=\"258.991\" x2=\"500.0\" y2=\"317.77\" stroke-linecap=\"round\" style=\"stroke:rgb(88,97,159);stroke-width:4\"/><line x1=\"500.0\" y1=\"317.77\" x2=\"400.0\" y2=\"317.77\" stroke-linecap=\"round\" style=\"stroke:rgb(88,97,159);stroke-width:4\"/><line x1=\"400.0\" y1=\"317.77\" x2=\"319.098\" y2=\"258.991\" stroke-linecap=\"round\" style=\"stroke:rgb(88,97,159);stroke-width:4\"/><line x1=\"319.098\" y1=\"258.991\" x2=\"288.196\" y2=\"163.885\" stroke-linecap=\"round\" style=\"stroke:rgb(88,97,159);stroke-width:4\"/><line x1=\"288.196\" y1=\"163.885\" x2=\"319.098\" y2=\"68.779\" stroke-linecap=\"round\" style=\"stroke:rgb(88,97,159);stroke-width:4\"/><line x1=\"319.098\" y1=\"68.779\" x2=\"400.0\" y2=\"10.0\" stroke-linecap=\"round\" style=\"stroke:rgb(88,97,159);stroke-width:4\"/><line x1=\"400.0\" y1=\"10.0\" x2=\"500.0\" y2=\"10.0\" stroke-linecap=\"round\" style=\"stroke:rgb(177,181,31);stroke-width:4\"/><line x1=\"500.0\" y1=\"10.0\" x2=\"584.125\" y2=\"64.064\" stroke-linecap=\"round\" style=\"stroke:rgb(177,181,31);stroke-width:4\"/><line x1=\"584.125\" y1=\"64.064\" x2=\"625.667\" y2=\"155.027\" stroke-linecap=\"round\" style=\"stroke:rgb(177,181,31);stroke-width:4\"/><line x1=\"625.667\" y1=\"155.027\" x2=\"611.436\" y2=\"254.009\" stroke-linecap=\"round\" style=\"stroke:rgb(177,181,31);stroke-width:4\"/><line x1=\"611.436\" y1=\"254.009\" x2=\"545.95\" y2=\"329.584\" stroke-linecap=\"round\" style=\"stroke:rgb(177,181,31);stroke-width:4\"/><line x1=\"545.95\" y1=\"329.584\" x2=\"450.001\" y2=\"357.757\" stroke-linecap=\"round\" style=\"stroke:rgb(177,181,31);stroke-width:4\"/><line x1=\"450.001\" y1=\"357.757\" x2=\"354.052\" y2=\"329.584\" stroke-linecap=\"round\" style=\"stroke:rgb(177,181,31);stroke-width:4\"/><line x1=\"354.052\" y1=\"329.584\" x2=\"288.566\" y2=\"254.009\" stroke-linecap=\"round\" style=\"stroke:rgb(177,181,31);stroke-width:4\"/><line x1=\"288.566\" y1=\"254.009\" x2=\"274.335\" y2=\"155.027\" stroke-linecap=\"round\" style=\"stroke:rgb(177,181,31);stroke-width:4\"/><line x1=\"274.335\" y1=\"155.027\" x2=\"315.877\" y2=\"64.064\" stroke-linecap=\"round\" style=\"stroke:rgb(177,181,31);stroke-width:4\"/><line x1=\"315.877\" y1=\"64.064\" x2=\"400.002\" y2=\"10.0\" stroke-linecap=\"round\" style=\"stroke:rgb(177,181,31);stroke-width:4\"/><line x1=\"400.002\" y1=\"10.0\" x2=\"500.002\" y2=\"10.0\" stroke-linecap=\"round\" style=\"stroke:rgb(193,4,189);stroke-width:4\"/><line x1=\"500.002\" y1=\"10.0\" x2=\"586.605\" y2=\"60.0\" stroke-linecap=\"round\" style=\"stroke:rgb(193,4,189);stroke-width:4\"/><line x1=\"586.605\" y1=\"60.0\" x2=\"636.605\" y2=\"146.603\" stroke-linecap=\"round\" style=\"stroke:rgb(193,4,189);stroke-width:4\"/><line x1=\"636.605\" y1=\"146.603\" x2=\"636.605\" y2=\"246.603\" stroke-linecap=\"round\" style=\"stroke:rgb(193,4,189);stroke-width:4\"/><line x1=\"636.605\" y1=\"246.603\" x2=\"586.605\" y2=\"333.206\" stroke-linecap=\"round\" style=\"stroke:rgb(193,4,189);stroke-width:4\"/><line x1=\"586.605\" y1=\"333.206\" x2=\"500.002\" y2=\"383.206\" stroke-linecap=\"round\" style=\"stroke:rgb(193,4,189);stroke-width:4\"/><line x1=\"500.002\" y1=\"383.206\" x2=\"400.002\" y2=\"383.206\" stroke-linecap=\"round\" style=\"stroke:rgb(193,4,189);stroke-width:4\"/><line x1=\"400.002\" y1=\"383.206\" x2=\"313.399\" y2=\"333.206\" stroke-linecap=\"round\" style=\"stroke:rgb(193,4,189);stroke-width:4\"/><line x1=\"313.399\" y1=\"333.206\" x2=\"263.399\" y2=\"246.603\" stroke-linecap=\"round\" style=\"stroke:rgb(193,4,189);stroke-width:4\"/><line x1=\"263.399\" y1=\"246.603\" x2=\"263.399\" y2=\"146.603\" stroke-linecap=\"round\" style=\"stroke:rgb(193,4,189);stroke-width:4\"/><line x1=\"263.399\" y1=\"146.603\" x2=\"313.399\" y2=\"60.0\" stroke-linecap=\"round\" style=\"stroke:rgb(193,4,189);stroke-width:4\"/><line x1=\"313.399\" y1=\"60.0\" x2=\"400.002\" y2=\"10.0\" stroke-linecap=\"round\" style=\"stroke:rgb(193,4,189);stroke-width:4\"/><line x1=\"400.002\" y1=\"10.0\" x2=\"500.002\" y2=\"10.0\" stroke-linecap=\"round\" style=\"stroke:rgb(9,35,154);stroke-width:4\"/><line x1=\"500.002\" y1=\"10.0\" x2=\"588.548\" y2=\"56.472\" stroke-linecap=\"round\" style=\"stroke:rgb(9,35,154);stroke-width:4\"/><line x1=\"588.548\" y1=\"56.472\" x2=\"645.354\" y2=\"138.77\" stroke-linecap=\"round\" style=\"stroke:rgb(9,35,154);stroke-width:4\"/><line x1=\"645.354\" y1=\"138.77\" x2=\"657.408\" y2=\"238.041\" stroke-linecap=\"round\" style=\"stroke:rgb(9,35,154);stroke-width:4\"/><line x1=\"657.408\" y1=\"238.041\" x2=\"621.948\" y2=\"331.543\" stroke-linecap=\"round\" style=\"stroke:rgb(9,35,154);stroke-width:4\"/><line x1=\"621.948\" y1=\"331.543\" x2=\"547.097\" y2=\"397.855\" stroke-linecap=\"round\" style=\"stroke:rgb(9,35,154);stroke-width:4\"/><line x1=\"547.097\" y1=\"397.855\" x2=\"450.003\" y2=\"421.787\" stroke-linecap=\"round\" style=\"stroke:rgb(9,35,154);stroke-width:4\"/><line x1=\"450.003\" y1=\"421.787\" x2=\"352.909\" y2=\"397.855\" stroke-linecap=\"round\" style=\"stroke:rgb(9,35,154);stroke-width:4\"/><line x1=\"352.909\" y1=\"397.855\" x2=\"278.058\" y2=\"331.543\" stroke-linecap=\"round\" style=\"stroke:rgb(9,35,154);stroke-width:4\"/><line x1=\"278.058\" y1=\"331.543\" x2=\"242.598\" y2=\"238.041\" stroke-linecap=\"round\" style=\"stroke:rgb(9,35,154);stroke-width:4\"/><line x1=\"242.598\" y1=\"238.041\" x2=\"254.652\" y2=\"138.77\" stroke-linecap=\"round\" style=\"stroke:rgb(9,35,154);stroke-width:4\"/><line x1=\"254.652\" y1=\"138.77\" x2=\"311.458\" y2=\"56.472\" stroke-linecap=\"round\" style=\"stroke:rgb(9,35,154);stroke-width:4\"/><line x1=\"311.458\" y1=\"56.472\" x2=\"400.004\" y2=\"10.0\" stroke-linecap=\"round\" style=\"stroke:rgb(9,35,154);stroke-width:4\"/><line x1=\"400.004\" y1=\"10.0\" x2=\"500.004\" y2=\"10.0\" stroke-linecap=\"round\" style=\"stroke:rgb(70,140,199);stroke-width:4\"/><line x1=\"500.004\" y1=\"10.0\" x2=\"590.101\" y2=\"53.388\" stroke-linecap=\"round\" style=\"stroke:rgb(70,140,199);stroke-width:4\"/><line x1=\"590.101\" y1=\"53.388\" x2=\"652.45\" y2=\"131.571\" stroke-linecap=\"round\" style=\"stroke:rgb(70,140,199);stroke-width:4\"/><line x1=\"652.45\" y1=\"131.571\" x2=\"674.702\" y2=\"229.064\" stroke-linecap=\"round\" style=\"stroke:rgb(70,140,199);stroke-width:4\"/><line x1=\"674.702\" y1=\"229.064\" x2=\"652.45\" y2=\"326.557\" stroke-linecap=\"round\" style=\"stroke:rgb(70,140,199);stroke-width:4\"/><line x1=\"652.45\" y1=\"326.557\" x2=\"590.101\" y2=\"404.74\" stroke-linecap=\"round\" style=\"stroke:rgb(70,140,199);stroke-width:4\"/><line x1=\"590.101\" y1=\"404.74\" x2=\"500.004\" y2=\"448.128\" stroke-linecap=\"round\" style=\"stroke:rgb(70,140,199);stroke-width:4\"/><line x1=\"500.004\" y1=\"448.128\" x2=\"400.004\" y2=\"448.128\" stroke-linecap=\"round\" style=\"stroke:rgb(70,140,199);stroke-width:4\"/><line x1=\"400.004\" y1=\"448.128\" x2=\"309.907\" y2=\"404.74\" stroke-linecap=\"round\" style=\"stroke:rgb(70,140,199);stroke-width:4\"/><line x1=\"309.907\" y1=\"404.74\" x2=\"247.558\" y2=\"326.557\" stroke-linecap=\"round\" style=\"stroke:rgb(70,140,199);stroke-width:4\"/><line x1=\"247.558\" y1=\"326.557\" x2=\"225.306\" y2=\"229.064\" stroke-linecap=\"round\" style=\"stroke:rgb(70,140,199);stroke-width:4\"/><line x1=\"225.306\" y1=\"229.064\" x2=\"247.558\" y2=\"131.571\" stroke-linecap=\"round\" style=\"stroke:rgb(70,140,199);stroke-width:4\"/><line x1=\"247.558\" y1=\"131.571\" x2=\"309.907\" y2=\"53.388\" stroke-linecap=\"round\" style=\"stroke:rgb(70,140,199);stroke-width:4\"/><line x1=\"309.907\" y1=\"53.388\" x2=\"400.004\" y2=\"10.0\" stroke-linecap=\"round\" style=\"stroke:rgb(70,140,199);stroke-width:4\"/><line x1=\"400.004\" y1=\"10.0\" x2=\"500.004\" y2=\"10.0\" stroke-linecap=\"round\" style=\"stroke:rgb(114,53,38);stroke-width:4\"/><line x1=\"500.004\" y1=\"10.0\" x2=\"591.359\" y2=\"50.674\" stroke-linecap=\"round\" style=\"stroke:rgb(114,53,38);stroke-width:4\"/><line x1=\"591.359\" y1=\"50.674\" x2=\"658.272\" y2=\"124.988\" stroke-linecap=\"round\" style=\"stroke:rgb(114,53,38);stroke-width:4\"/><line x1=\"658.272\" y1=\"124.988\" x2=\"689.174\" y2=\"220.094\" stroke-linecap=\"round\" style=\"stroke:rgb(114,53,38);stroke-width:4\"/><line x1=\"689.174\" y1=\"220.094\" x2=\"678.721\" y2=\"319.546\" stroke-linecap=\"round\" style=\"stroke:rgb(114,53,38);stroke-width:4\"/><line x1=\"678.721\" y1=\"319.546\" x2=\"628.721\" y2=\"406.149\" stroke-linecap=\"round\" style=\"stroke:rgb(114,53,38);stroke-width:4\"/><line x1=\"628.721\" y1=\"406.149\" x2=\"547.819\" y2=\"464.928\" stroke-linecap=\"round\" style=\"stroke:rgb(114,53,38);stroke-width:4\"/><line x1=\"547.819\" y1=\"464.928\" x2=\"450.004\" y2=\"485.719\" stroke-linecap=\"round\" style=\"stroke:rgb(114,53,38);stroke-width:4\"/><line x1=\"450.004\" y1=\"485.719\" x2=\"352.189\" y2=\"464.928\" stroke-linecap=\"round\" style=\"stroke:rgb(114,53,38);stroke-width:4\"/><line x1=\"352.189\" y1=\"464.928\" x2=\"271.287\" y2=\"406.149\" stroke-linecap=\"round\" style=\"stroke:rgb(114,53,38);stroke-width:4\"/><line x1=\"271.287\" y1=\"406.149\" x2=\"221.287\" y2=\"319.546\" stroke-linecap=\"round\" style=\"stroke:rgb(114,53,38);stroke-width:4\"/><line x1=\"221.287\" y1=\"319.546\" x2=\"210.834\" y2=\"220.094\" stroke-linecap=\"round\" style=\"stroke:rgb(114,53,38);stroke-width:4\"/><line x1=\"210.834\" y1=\"220.094\" x2=\"241.736\" y2=\"124.988\" stroke-linecap=\"round\" style=\"stroke:rgb(114,53,38);stroke-width:4\"/><line x1=\"241.736\" y1=\"124.988\" x2=\"308.649\" y2=\"50.674\" stroke-linecap=\"round\" style=\"stroke:rgb(114,53,38);stroke-width:4\"/><line x1=\"308.649\" y1=\"50.674\" x2=\"400.004\" y2=\"10.0\" stroke-linecap=\"round\" style=\"stroke:rgb(114,53,38);stroke-width:4\"/><line x1=\"400.004\" y1=\"10.0\" x2=\"500.004\" y2=\"10.0\" stroke-linecap=\"round\" style=\"stroke:rgb(6,32,44);stroke-width:4\"/><line x1=\"500.004\" y1=\"10.0\" x2=\"592.392\" y2=\"48.268\" stroke-linecap=\"round\" style=\"stroke:rgb(6,32,44);stroke-width:4\"/><line x1=\"592.392\" y1=\"48.268\" x2=\"663.103\" y2=\"118.979\" stroke-linecap=\"round\" style=\"stroke:rgb(6,32,44);stroke-width:4\"/><line x1=\"663.103\" y1=\"118.979\" x2=\"701.371\" y2=\"211.367\" stroke-linecap=\"round\" style=\"stroke:rgb(6,32,44);stroke-width:4\"/><line x1=\"701.371\" y1=\"211.367\" x2=\"701.371\" y2=\"311.367\" stroke-linecap=\"round\" style=\"stroke:rgb(6,32,44);stroke-width:4\"/><line x1=\"701.371\" y1=\"311.367\" x2=\"663.103\" y2=\"403.755\" stroke-linecap=\"round\" style=\"stroke:rgb(6,32,44);stroke-width:4\"/><line x1=\"663.103\" y1=\"403.755\" x2=\"592.392\" y2=\"474.466\" stroke-linecap=\"round\" style=\"stroke:rgb(6,32,44);stroke-width:4\"/><line x1=\"592.392\" y1=\"474.466\" x2=\"500.004\" y2=\"512.734\" stroke-linecap=\"round\" style=\"stroke:rgb(6,32,44);stroke-width:4\"/><line x1=\"500.004\" y1=\"512.734\" x2=\"400.004\" y2=\"512.734\" stroke-linecap=\"round\" style=\"stroke:rgb(6,32,44);stroke-width:4\"/><line x1=\"400.004\" y1=\"512.734\" x2=\"307.616\" y2=\"474.466\" stroke-linecap=\"round\" style=\"stroke:rgb(6,32,44);stroke-width:4\"/><line x1=\"307.616\" y1=\"474.466\" x2=\"236.905\" y2=\"403.755\" stroke-linecap=\"round\" style=\"stroke:rgb(6,32,44);stroke-width:4\"/><line x1=\"236.905\" y1=\"403.755\" x2=\"198.637\" y2=\"311.367\" stroke-linecap=\"round\" style=\"stroke:rgb(6,32,44);stroke-width:4\"/><line x1=\"198.637\" y1=\"311.367\" x2=\"198.637\" y2=\"211.367\" stroke-linecap=\"round\" style=\"stroke:rgb(6,32,44);stroke-width:4\"/><line x1=\"198.637\" y1=\"211.367\" x2=\"236.905\" y2=\"118.979\" stroke-linecap=\"round\" style=\"stroke:rgb(6,32,44);stroke-width:4\"/><line x1=\"236.905\" y1=\"118.979\" x2=\"307.616\" y2=\"48.268\" stroke-linecap=\"round\" style=\"stroke:rgb(6,32,44);stroke-width:4\"/><line x1=\"307.616\" y1=\"48.268\" x2=\"400.004\" y2=\"10.0\" stroke-linecap=\"round\" style=\"stroke:rgb(6,32,44);stroke-width:4\"/><line x1=\"400.004\" y1=\"10.0\" x2=\"500.004\" y2=\"10.0\" stroke-linecap=\"round\" style=\"stroke:rgb(119,4,187);stroke-width:4\"/><line x1=\"500.004\" y1=\"10.0\" x2=\"593.251\" y2=\"46.124\" stroke-linecap=\"round\" style=\"stroke:rgb(119,4,187);stroke-width:4\"/><line x1=\"593.251\" y1=\"46.124\" x2=\"667.152\" y2=\"113.494\" stroke-linecap=\"round\" style=\"stroke:rgb(119,4,187);stroke-width:4\"/><line x1=\"667.152\" y1=\"113.494\" x2=\"711.726\" y2=\"203.01\" stroke-linecap=\"round\" style=\"stroke:rgb(119,4,187);stroke-width:4\"/><line x1=\"711.726\" y1=\"203.01\" x2=\"720.953\" y2=\"302.583\" stroke-linecap=\"round\" style=\"stroke:rgb(119,4,187);stroke-width:4\"/><line x1=\"720.953\" y1=\"302.583\" x2=\"693.587\" y2=\"398.766\" stroke-linecap=\"round\" style=\"stroke:rgb(119,4,187);stroke-width:4\"/><line x1=\"693.587\" y1=\"398.766\" x2=\"633.324\" y2=\"478.568\" stroke-linecap=\"round\" style=\"stroke:rgb(119,4,187);stroke-width:4\"/><line x1=\"633.324\" y1=\"478.568\" x2=\"548.302\" y2=\"531.211\" stroke-linecap=\"round\" style=\"stroke:rgb(119,4,187);stroke-width:4\"/><line x1=\"548.302\" y1=\"531.211\" x2=\"450.005\" y2=\"549.586\" stroke-linecap=\"round\" style=\"stroke:rgb(119,4,187);stroke-width:4\"/><line x1=\"450.005\" y1=\"549.586\" x2=\"351.708\" y2=\"531.211\" stroke-linecap=\"round\" style=\"stroke:rgb(119,4,187);stroke-width:4\"/><line x1=\"351.708\" y1=\"531.211\" x2=\"266.686\" y2=\"478.568\" stroke-linecap=\"round\" style=\"stroke:rgb(119,4,187);stroke-width:4\"/><line x1=\"266.686\" y1=\"478.568\" x2=\"206.423\" y2=\"398.766\" stroke-linecap=\"round\" style=\"stroke:rgb(119,4,187);stroke-width:4\"/><line x1=\"206.423\" y1=\"398.766\" x2=\"179.057\" y2=\"302.583\" stroke-linecap=\"round\" style=\"stroke:rgb(119,4,187);stroke-width:4\"/><line x1=\"179.057\" y1=\"302.583\" x2=\"188.284\" y2=\"203.01\" stroke-linecap=\"round\" style=\"stroke:rgb(119,4,187);stroke-width:4\"/><line x1=\"188.284\" y1=\"203.01\" x2=\"232.858\" y2=\"113.494\" stroke-linecap=\"round\" style=\"stroke:rgb(119,4,187);stroke-width:4\"/><line x1=\"232.858\" y1=\"113.494\" x2=\"306.759\" y2=\"46.124\" stroke-linecap=\"round\" style=\"stroke:rgb(119,4,187);stroke-width:4\"/><line x1=\"306.759\" y1=\"46.124\" x2=\"400.006\" y2=\"10.0\" stroke-linecap=\"round\" style=\"stroke:rgb(119,4,187);stroke-width:4\"/><line x1=\"400.006\" y1=\"10.0\" x2=\"500.006\" y2=\"10.0\" stroke-linecap=\"round\" style=\"stroke:rgb(36,178,85);stroke-width:4\"/><line x1=\"500.006\" y1=\"10.0\" x2=\"593.975\" y2=\"44.202\" stroke-linecap=\"round\" style=\"stroke:rgb(36,178,85);stroke-width:4\"/><line x1=\"593.975\" y1=\"44.202\" x2=\"670.579\" y2=\"108.481\" stroke-linecap=\"round\" style=\"stroke:rgb(36,178,85);stroke-width:4\"/><line x1=\"670.579\" y1=\"108.481\" x2=\"720.579\" y2=\"195.084\" stroke-linecap=\"round\" style=\"stroke:rgb(36,178,85);stroke-width:4\"/><line x1=\"720.579\" y1=\"195.084\" x2=\"737.944\" y2=\"293.565\" stroke-linecap=\"round\" style=\"stroke:rgb(36,178,85);stroke-width:4\"/><line x1=\"737.944\" y1=\"293.565\" x2=\"720.579\" y2=\"392.046\" stroke-linecap=\"round\" style=\"stroke:rgb(36,178,85);stroke-width:4\"/><line x1=\"720.579\" y1=\"392.046\" x2=\"670.579\" y2=\"478.649\" stroke-linecap=\"round\" style=\"stroke:rgb(36,178,85);stroke-width:4\"/><line x1=\"670.579\" y1=\"478.649\" x2=\"593.975\" y2=\"542.928\" stroke-linecap=\"round\" style=\"stroke:rgb(36,178,85);stroke-width:4\"/><line x1=\"593.975\" y1=\"542.928\" x2=\"500.006\" y2=\"577.13\" stroke-linecap=\"round\" style=\"stroke:rgb(36,178,85);stroke-width:4\"/><line x1=\"500.006\" y1=\"577.13\" x2=\"400.006\" y2=\"577.13\" stroke-linecap=\"round\" style=\"stroke:rgb(36,178,85);stroke-width:4\"/><line x1=\"400.006\" y1=\"577.13\" x2=\"306.037\" y2=\"542.928\" stroke-linecap=\"round\" style=\"stroke:rgb(36,178,85);stroke-width:4\"/><line x1=\"306.037\" y1=\"542.928\" x2=\"229.433\" y2=\"478.649\" stroke-linecap=\"round\" style=\"stroke:rgb(36,178,85);stroke-width:4\"/><line x1=\"229.433\" y1=\"478.649\" x2=\"179.433\" y2=\"392.046\" stroke-linecap=\"round\" style=\"stroke:rgb(36,178,85);stroke-width:4\"/><line x1=\"179.433\" y1=\"392.046\" x2=\"162.068\" y2=\"293.565\" stroke-linecap=\"round\" style=\"stroke:rgb(36,178,85);stroke-width:4\"/><line x1=\"162.068\" y1=\"293.565\" x2=\"179.433\" y2=\"195.084\" stroke-linecap=\"round\" style=\"stroke:rgb(36,178,85);stroke-width:4\"/><line x1=\"179.433\" y1=\"195.084\" x2=\"229.433\" y2=\"108.481\" stroke-linecap=\"round\" style=\"stroke:rgb(36,178,85);stroke-width:4\"/><line x1=\"229.433\" y1=\"108.481\" x2=\"306.037\" y2=\"44.202\" stroke-linecap=\"round\" style=\"stroke:rgb(36,178,85);stroke-width:4\"/><line x1=\"306.037\" y1=\"44.202\" x2=\"400.006\" y2=\"10.0\" stroke-linecap=\"round\" style=\"stroke:rgb(36,178,85);stroke-width:4\"/><line x1=\"400.006\" y1=\"10.0\" x2=\"500.006\" y2=\"10.0\" stroke-linecap=\"round\" style=\"stroke:rgb(34,91,139);stroke-width:4\"/><line x1=\"500.006\" y1=\"10.0\" x2=\"594.588\" y2=\"42.47\" stroke-linecap=\"round\" style=\"stroke:rgb(34,91,139);stroke-width:4\"/><line x1=\"594.588\" y1=\"42.47\" x2=\"673.502\" y2=\"103.891\" stroke-linecap=\"round\" style=\"stroke:rgb(34,91,139);stroke-width:4\"/><line x1=\"673.502\" y1=\"103.891\" x2=\"728.197\" y2=\"187.608\" stroke-linecap=\"round\" style=\"stroke:rgb(34,91,139);stroke-width:4\"/><line x1=\"728.197\" y1=\"187.608\" x2=\"752.746\" y2=\"284.548\" stroke-linecap=\"round\" style=\"stroke:rgb(34,91,139);stroke-width:4\"/><line x1=\"752.746\" y1=\"284.548\" x2=\"744.488\" y2=\"384.206\" stroke-linecap=\"round\" style=\"stroke:rgb(34,91,139);stroke-width:4\"/><line x1=\"744.488\" y1=\"384.206\" x2=\"704.318\" y2=\"475.783\" stroke-linecap=\"round\" style=\"stroke:rgb(34,91,139);stroke-width:4\"/><line x1=\"704.318\" y1=\"475.783\" x2=\"636.59\" y2=\"549.355\" stroke-linecap=\"round\" style=\"stroke:rgb(34,91,139);stroke-width:4\"/><line x1=\"636.59\" y1=\"549.355\" x2=\"548.643\" y2=\"596.95\" stroke-linecap=\"round\" style=\"stroke:rgb(34,91,139);stroke-width:4\"/><line x1=\"548.643\" y1=\"596.95\" x2=\"450.007\" y2=\"613.409\" stroke-linecap=\"round\" style=\"stroke:rgb(34,91,139);stroke-width:4\"/><line x1=\"450.007\" y1=\"613.409\" x2=\"351.371\" y2=\"596.95\" stroke-linecap=\"round\" style=\"stroke:rgb(34,91,139);stroke-width:4\"/><line x1=\"351.371\" y1=\"596.95\" x2=\"263.424\" y2=\"549.355\" stroke-linecap=\"round\" style=\"stroke:rgb(34,91,139);stroke-width:4\"/><line x1=\"263.424\" y1=\"549.355\" x2=\"195.696\" y2=\"475.783\" stroke-linecap=\"round\" style=\"stroke:rgb(34,91,139);stroke-width:4\"/><line x1=\"195.696\" y1=\"475.783\" x2=\"155.526\" y2=\"384.206\" stroke-linecap=\"round\" style=\"stroke:rgb(34,91,139);stroke-width:4\"/><line x1=\"155.526\" y1=\"384.206\" x2=\"147.268\" y2=\"284.548\" stroke-linecap=\"round\" style=\"stroke:rgb(34,91,139);stroke-width:4\"/><line x1=\"147.268\" y1=\"284.548\" x2=\"171.817\" y2=\"187.608\" stroke-linecap=\"round\" style=\"stroke:rgb(34,91,139);stroke-width:4\"/><line x1=\"171.817\" y1=\"187.608\" x2=\"226.512\" y2=\"103.891\" stroke-linecap=\"round\" style=\"stroke:rgb(34,91,139);stroke-width:4\"/><line x1=\"226.512\" y1=\"103.891\" x2=\"305.426\" y2=\"42.47\" stroke-linecap=\"round\" style=\"stroke:rgb(34,91,139);stroke-width:4\"/><line x1=\"305.426\" y1=\"42.47\" x2=\"400.008\" y2=\"10.0\" stroke-linecap=\"round\" style=\"stroke:rgb(34,91,139);stroke-width:4\"/><line x1=\"400.008\" y1=\"10.0\" x2=\"500.008\" y2=\"10.0\" stroke-linecap=\"round\" style=\"stroke:rgb(138,122,58);stroke-width:4\"/><line x1=\"500.008\" y1=\"10.0\" x2=\"595.114\" y2=\"40.902\" stroke-linecap=\"round\" style=\"stroke:rgb(138,122,58);stroke-width:4\"/><line x1=\"595.114\" y1=\"40.902\" x2=\"676.016\" y2=\"99.681\" stroke-linecap=\"round\" style=\"stroke:rgb(138,122,58);stroke-width:4\"/><line x1=\"676.016\" y1=\"99.681\" x2=\"734.795\" y2=\"180.583\" stroke-linecap=\"round\" style=\"stroke:rgb(138,122,58);stroke-width:4\"/><line x1=\"734.795\" y1=\"180.583\" x2=\"765.697\" y2=\"275.689\" stroke-linecap=\"round\" style=\"stroke:rgb(138,122,58);stroke-width:4\"/><line x1=\"765.697\" y1=\"275.689\" x2=\"765.697\" y2=\"375.689\" stroke-linecap=\"round\" style=\"stroke:rgb(138,122,58);stroke-width:4\"/><line x1=\"765.697\" y1=\"375.689\" x2=\"734.795\" y2=\"470.795\" stroke-linecap=\"round\" style=\"stroke:rgb(138,122,58);stroke-width:4\"/><line x1=\"734.795\" y1=\"470.795\" x2=\"676.016\" y2=\"551.697\" stroke-linecap=\"round\" style=\"stroke:rgb(138,122,58);stroke-width:4\"/><line x1=\"676.016\" y1=\"551.697\" x2=\"595.114\" y2=\"610.476\" stroke-linecap=\"round\" style=\"stroke:rgb(138,122,58);stroke-width:4\"/><line x1=\"595.114\" y1=\"610.476\" x2=\"500.008\" y2=\"641.378\" stroke-linecap=\"round\" style=\"stroke:rgb(138,122,58);stroke-width:4\"/><line x1=\"500.008\" y1=\"641.378\" x2=\"400.008\" y2=\"641.378\" stroke-linecap=\"round\" style=\"stroke:rgb(138,122,58);stroke-width:4\"/><line x1=\"400.008\" y1=\"641.378\" x2=\"304.902\" y2=\"610.476\" stroke-linecap=\"round\" style=\"stroke:rgb(138,122,58);stroke-width:4\"/><line x1=\"304.902\" y1=\"610.476\" x2=\"224.0\" y2=\"551.697\" stroke-linecap=\"round\" style=\"stroke:rgb(138,122,58);stroke-width:4\"/><line x1=\"224.0\" y1=\"551.697\" x2=\"165.221\" y2=\"470.795\" stroke-linecap=\"round\" style=\"stroke:rgb(138,122,58);stroke-width:4\"/><line x1=\"165.221\" y1=\"470.795\" x2=\"134.319\" y2=\"375.689\" stroke-linecap=\"round\" style=\"stroke:rgb(138,122,58);stroke-width:4\"/><line x1=\"134.319\" y1=\"375.689\" x2=\"134.319\" y2=\"275.689\" stroke-linecap=\"round\" style=\"stroke:rgb(138,122,58);stroke-width:4\"/><line x1=\"134.319\" y1=\"275.689\" x2=\"165.221\" y2=\"180.583\" stroke-linecap=\"round\" style=\"stroke:rgb(138,122,58);stroke-width:4\"/><line x1=\"165.221\" y1=\"180.583\" x2=\"224.0\" y2=\"99.681\" stroke-linecap=\"round\" style=\"stroke:rgb(138,122,58);stroke-width:4\"/><line x1=\"224.0\" y1=\"99.681\" x2=\"304.902\" y2=\"40.902\" stroke-linecap=\"round\" style=\"stroke:rgb(138,122,58);stroke-width:4\"/><line x1=\"304.902\" y1=\"40.902\" x2=\"400.008\" y2=\"10.0\" stroke-linecap=\"round\" style=\"stroke:rgb(138,122,58);stroke-width:4\"/>\n",
              "        <g visibility=visible transform=\"rotate(90.0,400.008,10.0) translate(382.008, -8.0)\">\n",
              "<path style=\" stroke:none;fill-rule:evenodd;fill:rgb(138,122,58);fill-opacity:1;\" d=\"M 18.214844 0.632812 C 16.109375 1.800781 15.011719 4.074219 15.074219 7.132812 L 15.085938 7.652344 L 14.785156 7.496094 C 13.476562 6.824219 11.957031 6.671875 10.40625 7.066406 C 8.46875 7.550781 6.515625 9.15625 4.394531 11.992188 C 3.0625 13.777344 2.679688 14.636719 3.042969 15.027344 L 3.15625 15.152344 L 3.519531 15.152344 C 4.238281 15.152344 4.828125 14.886719 8.1875 13.039062 C 9.386719 12.378906 10.371094 11.839844 10.378906 11.839844 C 10.386719 11.839844 10.355469 11.929688 10.304688 12.035156 C 9.832031 13.09375 9.257812 14.820312 8.96875 16.078125 C 7.914062 20.652344 8.617188 24.53125 11.070312 27.660156 C 11.351562 28.015625 11.363281 27.914062 10.972656 28.382812 C 8.925781 30.84375 7.945312 33.28125 8.238281 35.1875 C 8.289062 35.527344 8.28125 35.523438 8.917969 35.523438 C 10.941406 35.523438 13.074219 34.207031 15.136719 31.6875 C 15.359375 31.417969 15.328125 31.425781 15.5625 31.574219 C 16.292969 32.042969 18.023438 32.964844 18.175781 32.964844 C 18.335938 32.964844 19.941406 32.210938 20.828125 31.71875 C 20.996094 31.625 21.136719 31.554688 21.136719 31.558594 C 21.203125 31.664062 21.898438 32.414062 22.222656 32.730469 C 23.835938 34.300781 25.5625 35.132812 27.582031 35.300781 C 27.90625 35.328125 27.9375 35.308594 28.007812 34.984375 C 28.382812 33.242188 27.625 30.925781 25.863281 28.425781 L 25.542969 27.96875 L 25.699219 27.785156 C 28.945312 23.960938 29.132812 18.699219 26.257812 11.96875 L 26.207031 11.84375 L 27.945312 12.703125 C 31.53125 14.476562 32.316406 14.800781 33.03125 14.800781 C 33.976562 14.800781 33.78125 13.9375 32.472656 12.292969 C 28.519531 7.355469 25.394531 5.925781 21.921875 7.472656 L 21.558594 7.636719 L 21.578125 7.542969 C 21.699219 6.992188 21.761719 5.742188 21.699219 5.164062 C 21.496094 3.296875 20.664062 1.964844 19.003906 0.855469 C 18.480469 0.503906 18.457031 0.5 18.214844 0.632812\"/>\n",
              "</g>\n",
              "      </svg>\n",
              "    "
            ],
            "text/plain": [
              "<IPython.core.display.HTML object>"
            ]
          },
          "metadata": {}
        },
        {
          "output_type": "stream",
          "name": "stdout",
          "text": [
            "3\n",
            "4\n",
            "5\n",
            "6\n",
            "7\n",
            "8\n",
            "9\n",
            "10\n",
            "11\n",
            "12\n",
            "13\n",
            "14\n",
            "15\n",
            "16\n",
            "17\n",
            "18\n",
            "19\n",
            "20\n"
          ]
        }
      ]
    }
  ]
}