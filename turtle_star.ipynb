{
  "nbformat": 4,
  "nbformat_minor": 0,
  "metadata": {
    "colab": {
      "name": "turtle-star",
      "provenance": [],
      "authorship_tag": "ABX9TyMULDhPTmpc7GzpZpIYQmk0",
      "include_colab_link": true
    },
    "kernelspec": {
      "name": "python3",
      "display_name": "Python 3"
    },
    "language_info": {
      "name": "python"
    }
  },
  "cells": [
    {
      "cell_type": "markdown",
      "metadata": {
        "id": "view-in-github",
        "colab_type": "text"
      },
      "source": [
        "<a href=\"https://colab.research.google.com/github/lakshmipriyankaimadabattina/60_days-_of_c/blob/main/turtle_star.ipynb\" target=\"_parent\"><img src=\"https://colab.research.google.com/assets/colab-badge.svg\" alt=\"Open In Colab\"/></a>"
      ]
    },
    {
      "cell_type": "code",
      "metadata": {
        "id": "IilsC7OVlqLp"
      },
      "source": [
        "import turtle"
      ],
      "execution_count": 1,
      "outputs": []
    },
    {
      "cell_type": "code",
      "metadata": {
        "colab": {
          "base_uri": "https://localhost:8080/"
        },
        "id": "wzENbWgin_HW",
        "outputId": "1d6ed0ce-bec3-4729-e8c8-73bffb6dd17b"
      },
      "source": [
        "!pip3 install ColabTurtle\n",
        "from ColabTurtle.Turtle import*"
      ],
      "execution_count": 2,
      "outputs": [
        {
          "output_type": "stream",
          "name": "stdout",
          "text": [
            "Collecting ColabTurtle\n",
            "  Downloading ColabTurtle-2.1.0.tar.gz (6.8 kB)\n",
            "Building wheels for collected packages: ColabTurtle\n",
            "  Building wheel for ColabTurtle (setup.py) ... \u001b[?25l\u001b[?25hdone\n",
            "  Created wheel for ColabTurtle: filename=ColabTurtle-2.1.0-py3-none-any.whl size=7655 sha256=e303f000cf3fd5cbc80bfecdc9382129fe1fa057ce3806ea62165d5a51f8dadd\n",
            "  Stored in directory: /root/.cache/pip/wheels/0d/ab/65/cc4478508751448dfb4ecb20a6533082855c227dfce8c13902\n",
            "Successfully built ColabTurtle\n",
            "Installing collected packages: ColabTurtle\n",
            "Successfully installed ColabTurtle-2.1.0\n"
          ]
        }
      ]
    },
    {
      "cell_type": "code",
      "metadata": {
        "id": "A8ToIYwQoC5W"
      },
      "source": [
        "import ColabTurtle.Turtle as tim\n",
        "from random import randint\n",
        "\n",
        "def initializeTimeTheTurtle():\n",
        "  initializeTurtle()\n",
        "  penup()\n",
        "  goto(400, 10)\n",
        "  pendown()\n",
        "  tim.right(90)\n",
        "\n",
        "def drawShapes(num_sides):\n",
        "  tim.color(randint(0,220),randint(0, 220),randint(0, 220))\n",
        "  for _ in range(num_sides):\n",
        "    angle = 360/num_sides\n",
        "    tim.forward(100)\n",
        "    tim.right(angle)"
      ],
      "execution_count": 3,
      "outputs": []
    },
    {
      "cell_type": "code",
      "metadata": {
        "colab": {
          "base_uri": "https://localhost:8080/",
          "height": 521
        },
        "id": "J-0sWANtofjg",
        "outputId": "c732bc8e-df83-49f8-ccb7-0248736fb6cb"
      },
      "source": [
        "initializeTurtle()"
      ],
      "execution_count": 6,
      "outputs": [
        {
          "output_type": "display_data",
          "data": {
            "text/html": [
              "\n",
              "      <svg width=\"800\" height=\"500\">\n",
              "        <rect width=\"100%\" height=\"100%\" fill=\"black\"/>\n",
              "        \n",
              "        <g visibility=visible transform=\"rotate(360,400,250) translate(382, 232)\">\n",
              "<path style=\" stroke:none;fill-rule:evenodd;fill:white;fill-opacity:1;\" d=\"M 18.214844 0.632812 C 16.109375 1.800781 15.011719 4.074219 15.074219 7.132812 L 15.085938 7.652344 L 14.785156 7.496094 C 13.476562 6.824219 11.957031 6.671875 10.40625 7.066406 C 8.46875 7.550781 6.515625 9.15625 4.394531 11.992188 C 3.0625 13.777344 2.679688 14.636719 3.042969 15.027344 L 3.15625 15.152344 L 3.519531 15.152344 C 4.238281 15.152344 4.828125 14.886719 8.1875 13.039062 C 9.386719 12.378906 10.371094 11.839844 10.378906 11.839844 C 10.386719 11.839844 10.355469 11.929688 10.304688 12.035156 C 9.832031 13.09375 9.257812 14.820312 8.96875 16.078125 C 7.914062 20.652344 8.617188 24.53125 11.070312 27.660156 C 11.351562 28.015625 11.363281 27.914062 10.972656 28.382812 C 8.925781 30.84375 7.945312 33.28125 8.238281 35.1875 C 8.289062 35.527344 8.28125 35.523438 8.917969 35.523438 C 10.941406 35.523438 13.074219 34.207031 15.136719 31.6875 C 15.359375 31.417969 15.328125 31.425781 15.5625 31.574219 C 16.292969 32.042969 18.023438 32.964844 18.175781 32.964844 C 18.335938 32.964844 19.941406 32.210938 20.828125 31.71875 C 20.996094 31.625 21.136719 31.554688 21.136719 31.558594 C 21.203125 31.664062 21.898438 32.414062 22.222656 32.730469 C 23.835938 34.300781 25.5625 35.132812 27.582031 35.300781 C 27.90625 35.328125 27.9375 35.308594 28.007812 34.984375 C 28.382812 33.242188 27.625 30.925781 25.863281 28.425781 L 25.542969 27.96875 L 25.699219 27.785156 C 28.945312 23.960938 29.132812 18.699219 26.257812 11.96875 L 26.207031 11.84375 L 27.945312 12.703125 C 31.53125 14.476562 32.316406 14.800781 33.03125 14.800781 C 33.976562 14.800781 33.78125 13.9375 32.472656 12.292969 C 28.519531 7.355469 25.394531 5.925781 21.921875 7.472656 L 21.558594 7.636719 L 21.578125 7.542969 C 21.699219 6.992188 21.761719 5.742188 21.699219 5.164062 C 21.496094 3.296875 20.664062 1.964844 19.003906 0.855469 C 18.480469 0.503906 18.457031 0.5 18.214844 0.632812\"/>\n",
              "</g>\n",
              "      </svg>\n",
              "    "
            ],
            "text/plain": [
              "<IPython.core.display.HTML object>"
            ]
          },
          "metadata": {}
        }
      ]
    },
    {
      "cell_type": "code",
      "metadata": {
        "id": "sTDyRa7hoIN2"
      },
      "source": [
        "colors = ['yellow','green','red','white','cyan','blue']"
      ],
      "execution_count": 7,
      "outputs": []
    },
    {
      "cell_type": "code",
      "metadata": {
        "colab": {
          "base_uri": "https://localhost:8080/",
          "height": 521
        },
        "id": "8EKYh3UMoOFD",
        "outputId": "81c7bb97-86bd-422e-8810-eb5a11ac8c93"
      },
      "source": [
        "\n",
        "\n",
        "for i in range(100):\n",
        "  tim.color(colors[i%6])\n",
        "  tim.fd(i*5)\n",
        "  tim.left(200)\n",
        "  tim.width(2)"
      ],
      "execution_count": 8,
      "outputs": [
        {
          "output_type": "display_data",
          "data": {
            "text/html": [
              "\n",
              "      <svg width=\"800\" height=\"500\">\n",
              "        <rect width=\"100%\" height=\"100%\" fill=\"black\"/>\n",
              "        <line x1=\"400\" y1=\"250\" x2=\"400.0\" y2=\"250.0\" stroke-linecap=\"round\" style=\"stroke:yellow;stroke-width:4\"/><line x1=\"400.0\" y1=\"250.0\" x2=\"401.71\" y2=\"254.698\" stroke-linecap=\"round\" style=\"stroke:green;stroke-width:2\"/><line x1=\"401.71\" y1=\"254.698\" x2=\"395.282\" y2=\"247.038\" stroke-linecap=\"round\" style=\"stroke:red;stroke-width:2\"/><line x1=\"395.282\" y1=\"247.038\" x2=\"408.272\" y2=\"254.538\" stroke-linecap=\"round\" style=\"stroke:white;stroke-width:2\"/><line x1=\"408.272\" y1=\"254.538\" x2=\"388.576\" y2=\"251.065\" stroke-linecap=\"round\" style=\"stroke:cyan;stroke-width:2\"/><line x1=\"388.576\" y1=\"251.065\" x2=\"413.196\" y2=\"246.724\" stroke-linecap=\"round\" style=\"stroke:blue;stroke-width:2\"/><line x1=\"413.196\" y1=\"246.724\" x2=\"387.215\" y2=\"261.724\" stroke-linecap=\"round\" style=\"stroke:yellow;stroke-width:2\"/><line x1=\"387.215\" y1=\"261.724\" x2=\"409.713\" y2=\"234.912\" stroke-linecap=\"round\" style=\"stroke:green;stroke-width:2\"/><line x1=\"409.713\" y1=\"234.912\" x2=\"396.032\" y2=\"272.5\" stroke-linecap=\"round\" style=\"stroke:red;stroke-width:2\"/><line x1=\"396.032\" y1=\"272.5\" x2=\"396.032\" y2=\"227.5\" stroke-linecap=\"round\" style=\"stroke:white;stroke-width:2\"/><line x1=\"396.032\" y1=\"227.5\" x2=\"413.133\" y2=\"274.485\" stroke-linecap=\"round\" style=\"stroke:cyan;stroke-width:2\"/><line x1=\"413.133\" y1=\"274.485\" x2=\"377.78\" y2=\"232.353\" stroke-linecap=\"round\" style=\"stroke:blue;stroke-width:2\"/><line x1=\"377.78\" y1=\"232.353\" x2=\"429.742\" y2=\"262.353\" stroke-linecap=\"round\" style=\"stroke:yellow;stroke-width:2\"/><line x1=\"429.742\" y1=\"262.353\" x2=\"365.729\" y2=\"251.066\" stroke-linecap=\"round\" style=\"stroke:green;stroke-width:2\"/><line x1=\"365.729\" y1=\"251.066\" x2=\"434.666\" y2=\"238.911\" stroke-linecap=\"round\" style=\"stroke:red;stroke-width:2\"/><line x1=\"434.666\" y1=\"238.911\" x2=\"369.714\" y2=\"276.411\" stroke-linecap=\"round\" style=\"stroke:white;stroke-width:2\"/><line x1=\"369.714\" y1=\"276.411\" x2=\"421.137\" y2=\"215.127\" stroke-linecap=\"round\" style=\"stroke:cyan;stroke-width:2\"/><line x1=\"421.137\" y1=\"215.127\" x2=\"392.065\" y2=\"295.001\" stroke-linecap=\"round\" style=\"stroke:blue;stroke-width:2\"/><line x1=\"392.065\" y1=\"295.001\" x2=\"392.065\" y2=\"205.001\" stroke-linecap=\"round\" style=\"stroke:yellow;stroke-width:2\"/><line x1=\"392.065\" y1=\"205.001\" x2=\"424.557\" y2=\"294.272\" stroke-linecap=\"round\" style=\"stroke:green;stroke-width:2\"/><line x1=\"424.557\" y1=\"294.272\" x2=\"360.278\" y2=\"217.668\" stroke-linecap=\"round\" style=\"stroke:red;stroke-width:2\"/><line x1=\"360.278\" y1=\"217.668\" x2=\"451.211\" y2=\"270.168\" stroke-linecap=\"round\" style=\"stroke:white;stroke-width:2\"/><line x1=\"451.211\" y1=\"270.168\" x2=\"342.882\" y2=\"251.067\" stroke-linecap=\"round\" style=\"stroke:cyan;stroke-width:2\"/><line x1=\"342.882\" y1=\"251.067\" x2=\"456.135\" y2=\"231.097\" stroke-linecap=\"round\" style=\"stroke:blue;stroke-width:2\"/><line x1=\"456.135\" y1=\"231.097\" x2=\"352.212\" y2=\"291.097\" stroke-linecap=\"round\" style=\"stroke:yellow;stroke-width:2\"/><line x1=\"352.212\" y1=\"291.097\" x2=\"432.56\" y2=\"195.341\" stroke-linecap=\"round\" style=\"stroke:green;stroke-width:2\"/><line x1=\"432.56\" y1=\"195.341\" x2=\"388.097\" y2=\"317.501\" stroke-linecap=\"round\" style=\"stroke:red;stroke-width:2\"/><line x1=\"388.097\" y1=\"317.501\" x2=\"388.097\" y2=\"182.501\" stroke-linecap=\"round\" style=\"stroke:white;stroke-width:2\"/><line x1=\"388.097\" y1=\"182.501\" x2=\"435.98\" y2=\"314.058\" stroke-linecap=\"round\" style=\"stroke:cyan;stroke-width:2\"/><line x1=\"435.98\" y1=\"314.058\" x2=\"342.776\" y2=\"202.982\" stroke-linecap=\"round\" style=\"stroke:blue;stroke-width:2\"/><line x1=\"342.776\" y1=\"202.982\" x2=\"472.68\" y2=\"277.982\" stroke-linecap=\"round\" style=\"stroke:yellow;stroke-width:2\"/><line x1=\"472.68\" y1=\"277.982\" x2=\"320.035\" y2=\"251.067\" stroke-linecap=\"round\" style=\"stroke:green;stroke-width:2\"/><line x1=\"320.035\" y1=\"251.067\" x2=\"477.604\" y2=\"223.283\" stroke-linecap=\"round\" style=\"stroke:red;stroke-width:2\"/><line x1=\"477.604\" y1=\"223.283\" x2=\"334.71\" y2=\"305.783\" stroke-linecap=\"round\" style=\"stroke:white;stroke-width:2\"/><line x1=\"334.71\" y1=\"305.783\" x2=\"443.984\" y2=\"175.555\" stroke-linecap=\"round\" style=\"stroke:cyan;stroke-width:2\"/><line x1=\"443.984\" y1=\"175.555\" x2=\"384.13\" y2=\"340.001\" stroke-linecap=\"round\" style=\"stroke:blue;stroke-width:2\"/><line x1=\"384.13\" y1=\"340.001\" x2=\"384.13\" y2=\"160.001\" stroke-linecap=\"round\" style=\"stroke:yellow;stroke-width:2\"/><line x1=\"384.13\" y1=\"160.001\" x2=\"447.404\" y2=\"333.844\" stroke-linecap=\"round\" style=\"stroke:green;stroke-width:2\"/><line x1=\"447.404\" y1=\"333.844\" x2=\"325.274\" y2=\"188.296\" stroke-linecap=\"round\" style=\"stroke:red;stroke-width:2\"/><line x1=\"325.274\" y1=\"188.296\" x2=\"494.149\" y2=\"285.796\" stroke-linecap=\"round\" style=\"stroke:white;stroke-width:2\"/><line x1=\"494.149\" y1=\"285.796\" x2=\"297.187\" y2=\"251.066\" stroke-linecap=\"round\" style=\"stroke:cyan;stroke-width:2\"/><line x1=\"297.187\" y1=\"251.066\" x2=\"499.073\" y2=\"215.468\" stroke-linecap=\"round\" style=\"stroke:blue;stroke-width:2\"/><line x1=\"499.073\" y1=\"215.468\" x2=\"317.208\" y2=\"320.468\" stroke-linecap=\"round\" style=\"stroke:yellow;stroke-width:2\"/><line x1=\"317.208\" y1=\"320.468\" x2=\"455.407\" y2=\"155.768\" stroke-linecap=\"round\" style=\"stroke:green;stroke-width:2\"/><line x1=\"455.407\" y1=\"155.768\" x2=\"380.163\" y2=\"362.5\" stroke-linecap=\"round\" style=\"stroke:red;stroke-width:2\"/><line x1=\"380.163\" y1=\"362.5\" x2=\"380.163\" y2=\"137.5\" stroke-linecap=\"round\" style=\"stroke:white;stroke-width:2\"/><line x1=\"380.163\" y1=\"137.5\" x2=\"458.828\" y2=\"353.629\" stroke-linecap=\"round\" style=\"stroke:cyan;stroke-width:2\"/><line x1=\"458.828\" y1=\"353.629\" x2=\"307.773\" y2=\"173.609\" stroke-linecap=\"round\" style=\"stroke:blue;stroke-width:2\"/><line x1=\"307.773\" y1=\"173.609\" x2=\"515.619\" y2=\"293.609\" stroke-linecap=\"round\" style=\"stroke:yellow;stroke-width:2\"/><line x1=\"515.619\" y1=\"293.609\" x2=\"274.341\" y2=\"251.065\" stroke-linecap=\"round\" style=\"stroke:green;stroke-width:2\"/><line x1=\"274.341\" y1=\"251.065\" x2=\"520.543\" y2=\"207.653\" stroke-linecap=\"round\" style=\"stroke:red;stroke-width:2\"/><line x1=\"520.543\" y1=\"207.653\" x2=\"299.707\" y2=\"335.153\" stroke-linecap=\"round\" style=\"stroke:white;stroke-width:2\"/><line x1=\"299.707\" y1=\"335.153\" x2=\"466.832\" y2=\"135.981\" stroke-linecap=\"round\" style=\"stroke:cyan;stroke-width:2\"/><line x1=\"466.832\" y1=\"135.981\" x2=\"376.197\" y2=\"385.0\" stroke-linecap=\"round\" style=\"stroke:blue;stroke-width:2\"/><line x1=\"376.197\" y1=\"385.0\" x2=\"376.197\" y2=\"115.0\" stroke-linecap=\"round\" style=\"stroke:yellow;stroke-width:2\"/><line x1=\"376.197\" y1=\"115.0\" x2=\"470.253\" y2=\"373.415\" stroke-linecap=\"round\" style=\"stroke:green;stroke-width:2\"/><line x1=\"470.253\" y1=\"373.415\" x2=\"290.272\" y2=\"158.923\" stroke-linecap=\"round\" style=\"stroke:red;stroke-width:2\"/><line x1=\"290.272\" y1=\"158.923\" x2=\"537.089\" y2=\"301.423\" stroke-linecap=\"round\" style=\"stroke:white;stroke-width:2\"/><line x1=\"537.089\" y1=\"301.423\" x2=\"251.495\" y2=\"251.065\" stroke-linecap=\"round\" style=\"stroke:cyan;stroke-width:2\"/><line x1=\"251.495\" y1=\"251.065\" x2=\"542.013\" y2=\"199.839\" stroke-linecap=\"round\" style=\"stroke:blue;stroke-width:2\"/><line x1=\"542.013\" y1=\"199.839\" x2=\"282.205\" y2=\"349.839\" stroke-linecap=\"round\" style=\"stroke:yellow;stroke-width:2\"/><line x1=\"282.205\" y1=\"349.839\" x2=\"478.255\" y2=\"116.195\" stroke-linecap=\"round\" style=\"stroke:green;stroke-width:2\"/><line x1=\"478.255\" y1=\"116.195\" x2=\"372.229\" y2=\"407.5\" stroke-linecap=\"round\" style=\"stroke:red;stroke-width:2\"/><line x1=\"372.229\" y1=\"407.5\" x2=\"372.229\" y2=\"92.5\" stroke-linecap=\"round\" style=\"stroke:white;stroke-width:2\"/><line x1=\"372.229\" y1=\"92.5\" x2=\"481.675\" y2=\"393.202\" stroke-linecap=\"round\" style=\"stroke:cyan;stroke-width:2\"/><line x1=\"481.675\" y1=\"393.202\" x2=\"272.769\" y2=\"144.238\" stroke-linecap=\"round\" style=\"stroke:blue;stroke-width:2\"/><line x1=\"272.769\" y1=\"144.238\" x2=\"558.557\" y2=\"309.238\" stroke-linecap=\"round\" style=\"stroke:yellow;stroke-width:2\"/><line x1=\"558.557\" y1=\"309.238\" x2=\"228.646\" y2=\"251.066\" stroke-linecap=\"round\" style=\"stroke:green;stroke-width:2\"/><line x1=\"228.646\" y1=\"251.066\" x2=\"563.481\" y2=\"192.026\" stroke-linecap=\"round\" style=\"stroke:red;stroke-width:2\"/><line x1=\"563.481\" y1=\"192.026\" x2=\"264.702\" y2=\"364.526\" stroke-linecap=\"round\" style=\"stroke:white;stroke-width:2\"/><line x1=\"264.702\" y1=\"364.526\" x2=\"489.678\" y2=\"96.41\" stroke-linecap=\"round\" style=\"stroke:cyan;stroke-width:2\"/><line x1=\"489.678\" y1=\"96.41\" x2=\"368.261\" y2=\"430.001\" stroke-linecap=\"round\" style=\"stroke:blue;stroke-width:2\"/><line x1=\"368.261\" y1=\"430.001\" x2=\"368.261\" y2=\"70.001\" stroke-linecap=\"round\" style=\"stroke:yellow;stroke-width:2\"/><line x1=\"368.261\" y1=\"70.001\" x2=\"493.098\" y2=\"412.989\" stroke-linecap=\"round\" style=\"stroke:green;stroke-width:2\"/><line x1=\"493.098\" y1=\"412.989\" x2=\"255.267\" y2=\"129.553\" stroke-linecap=\"round\" style=\"stroke:red;stroke-width:2\"/><line x1=\"255.267\" y1=\"129.553\" x2=\"580.027\" y2=\"317.053\" stroke-linecap=\"round\" style=\"stroke:white;stroke-width:2\"/><line x1=\"580.027\" y1=\"317.053\" x2=\"205.8\" y2=\"251.067\" stroke-linecap=\"round\" style=\"stroke:cyan;stroke-width:2\"/><line x1=\"205.8\" y1=\"251.067\" x2=\"584.951\" y2=\"184.212\" stroke-linecap=\"round\" style=\"stroke:blue;stroke-width:2\"/><line x1=\"584.951\" y1=\"184.212\" x2=\"247.201\" y2=\"379.212\" stroke-linecap=\"round\" style=\"stroke:yellow;stroke-width:2\"/><line x1=\"247.201\" y1=\"379.212\" x2=\"501.102\" y2=\"76.624\" stroke-linecap=\"round\" style=\"stroke:green;stroke-width:2\"/><line x1=\"501.102\" y1=\"76.624\" x2=\"364.294\" y2=\"452.501\" stroke-linecap=\"round\" style=\"stroke:red;stroke-width:2\"/><line x1=\"364.294\" y1=\"452.501\" x2=\"364.294\" y2=\"47.501\" stroke-linecap=\"round\" style=\"stroke:white;stroke-width:2\"/><line x1=\"364.294\" y1=\"47.501\" x2=\"504.522\" y2=\"432.775\" stroke-linecap=\"round\" style=\"stroke:cyan;stroke-width:2\"/><line x1=\"504.522\" y1=\"432.775\" x2=\"237.765\" y2=\"114.867\" stroke-linecap=\"round\" style=\"stroke:blue;stroke-width:2\"/><line x1=\"237.765\" y1=\"114.867\" x2=\"601.496\" y2=\"324.867\" stroke-linecap=\"round\" style=\"stroke:yellow;stroke-width:2\"/><line x1=\"601.496\" y1=\"324.867\" x2=\"182.953\" y2=\"251.067\" stroke-linecap=\"round\" style=\"stroke:green;stroke-width:2\"/><line x1=\"182.953\" y1=\"251.067\" x2=\"606.42\" y2=\"176.398\" stroke-linecap=\"round\" style=\"stroke:red;stroke-width:2\"/><line x1=\"606.42\" y1=\"176.398\" x2=\"229.699\" y2=\"393.898\" stroke-linecap=\"round\" style=\"stroke:white;stroke-width:2\"/><line x1=\"229.699\" y1=\"393.898\" x2=\"512.526\" y2=\"56.838\" stroke-linecap=\"round\" style=\"stroke:cyan;stroke-width:2\"/><line x1=\"512.526\" y1=\"56.838\" x2=\"360.327\" y2=\"475.001\" stroke-linecap=\"round\" style=\"stroke:blue;stroke-width:2\"/><line x1=\"360.327\" y1=\"475.001\" x2=\"360.327\" y2=\"25.001\" stroke-linecap=\"round\" style=\"stroke:yellow;stroke-width:2\"/><line x1=\"360.327\" y1=\"25.001\" x2=\"515.946\" y2=\"452.561\" stroke-linecap=\"round\" style=\"stroke:green;stroke-width:2\"/><line x1=\"515.946\" y1=\"452.561\" x2=\"220.264\" y2=\"100.181\" stroke-linecap=\"round\" style=\"stroke:red;stroke-width:2\"/><line x1=\"220.264\" y1=\"100.181\" x2=\"622.966\" y2=\"332.681\" stroke-linecap=\"round\" style=\"stroke:white;stroke-width:2\"/><line x1=\"622.966\" y1=\"332.681\" x2=\"160.106\" y2=\"251.066\" stroke-linecap=\"round\" style=\"stroke:cyan;stroke-width:2\"/><line x1=\"160.106\" y1=\"251.066\" x2=\"627.89\" y2=\"168.583\" stroke-linecap=\"round\" style=\"stroke:blue;stroke-width:2\"/><line x1=\"627.89\" y1=\"168.583\" x2=\"212.198\" y2=\"408.583\" stroke-linecap=\"round\" style=\"stroke:yellow;stroke-width:2\"/><line x1=\"212.198\" y1=\"408.583\" x2=\"523.95\" y2=\"37.051\" stroke-linecap=\"round\" style=\"stroke:green;stroke-width:2\"/><line x1=\"523.95\" y1=\"37.051\" x2=\"356.36\" y2=\"497.5\" stroke-linecap=\"round\" style=\"stroke:red;stroke-width:2\"/><line x1=\"356.36\" y1=\"497.5\" x2=\"356.36\" y2=\"2.5\" stroke-linecap=\"round\" style=\"stroke:white;stroke-width:2\"/>\n",
              "        <g visibility=visible transform=\"rotate(160,356.36,2.5) translate(338.36, -15.5)\">\n",
              "<path style=\" stroke:none;fill-rule:evenodd;fill:white;fill-opacity:1;\" d=\"M 18.214844 0.632812 C 16.109375 1.800781 15.011719 4.074219 15.074219 7.132812 L 15.085938 7.652344 L 14.785156 7.496094 C 13.476562 6.824219 11.957031 6.671875 10.40625 7.066406 C 8.46875 7.550781 6.515625 9.15625 4.394531 11.992188 C 3.0625 13.777344 2.679688 14.636719 3.042969 15.027344 L 3.15625 15.152344 L 3.519531 15.152344 C 4.238281 15.152344 4.828125 14.886719 8.1875 13.039062 C 9.386719 12.378906 10.371094 11.839844 10.378906 11.839844 C 10.386719 11.839844 10.355469 11.929688 10.304688 12.035156 C 9.832031 13.09375 9.257812 14.820312 8.96875 16.078125 C 7.914062 20.652344 8.617188 24.53125 11.070312 27.660156 C 11.351562 28.015625 11.363281 27.914062 10.972656 28.382812 C 8.925781 30.84375 7.945312 33.28125 8.238281 35.1875 C 8.289062 35.527344 8.28125 35.523438 8.917969 35.523438 C 10.941406 35.523438 13.074219 34.207031 15.136719 31.6875 C 15.359375 31.417969 15.328125 31.425781 15.5625 31.574219 C 16.292969 32.042969 18.023438 32.964844 18.175781 32.964844 C 18.335938 32.964844 19.941406 32.210938 20.828125 31.71875 C 20.996094 31.625 21.136719 31.554688 21.136719 31.558594 C 21.203125 31.664062 21.898438 32.414062 22.222656 32.730469 C 23.835938 34.300781 25.5625 35.132812 27.582031 35.300781 C 27.90625 35.328125 27.9375 35.308594 28.007812 34.984375 C 28.382812 33.242188 27.625 30.925781 25.863281 28.425781 L 25.542969 27.96875 L 25.699219 27.785156 C 28.945312 23.960938 29.132812 18.699219 26.257812 11.96875 L 26.207031 11.84375 L 27.945312 12.703125 C 31.53125 14.476562 32.316406 14.800781 33.03125 14.800781 C 33.976562 14.800781 33.78125 13.9375 32.472656 12.292969 C 28.519531 7.355469 25.394531 5.925781 21.921875 7.472656 L 21.558594 7.636719 L 21.578125 7.542969 C 21.699219 6.992188 21.761719 5.742188 21.699219 5.164062 C 21.496094 3.296875 20.664062 1.964844 19.003906 0.855469 C 18.480469 0.503906 18.457031 0.5 18.214844 0.632812\"/>\n",
              "</g>\n",
              "      </svg>\n",
              "    "
            ],
            "text/plain": [
              "<IPython.core.display.HTML object>"
            ]
          },
          "metadata": {}
        }
      ]
    }
  ]
}